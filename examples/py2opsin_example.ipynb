{
 "cells": [
  {
   "attachments": {},
   "cell_type": "markdown",
   "id": "65d0bde2",
   "metadata": {},
   "source": [
    "# `py2opsin` to Resolve IUPAC Names to SMILES\n",
    "Start by installing `py2opsin` from PyPI with this command:\n",
    "`pip install py2opsin`\n",
    "\n",
    "This install includes a copy of `OPSIN` itself, so there is not additional setup required to make it work!"
   ]
  },
  {
   "cell_type": "code",
   "execution_count": 2,
   "id": "c71ab290",
   "metadata": {},
   "outputs": [
    {
     "name": "stdout",
     "output_type": "stream",
     "text": [
      "Requirement already satisfied: py2opsin in /home/jackson/py2opsin/py2opsin (1.0.2)\n"
     ]
    }
   ],
   "source": [
    "!pip install py2opsin"
   ]
  },
  {
   "attachments": {},
   "cell_type": "markdown",
   "id": "97cebdb6",
   "metadata": {},
   "source": [
    "With `py2opsin` installed, you can now resolve names into SMILES strings, InChi, or any of the supported output formats either one input at a time, or in a list:"
   ]
  },
  {
   "cell_type": "code",
   "execution_count": 5,
   "id": "22993d71",
   "metadata": {},
   "outputs": [
    {
     "name": "stdout",
     "output_type": "stream",
     "text": [
      "O\n"
     ]
    }
   ],
   "source": [
    "from py2opsin import py2opsin\n",
    "water_smiles = py2opsin(\"water\")\n",
    "print(water_smiles)"
   ]
  },
  {
   "cell_type": "code",
   "execution_count": 8,
   "id": "2bef9f0b",
   "metadata": {},
   "outputs": [
    {
     "name": "stdout",
     "output_type": "stream",
     "text": [
      "['InChI=1/C2H6/c1-2/h1-2H3', 'InChI=1/CH4/h1H4', 'InChI=1/C3H8/c1-3-2/h3H2,1-2H3']\n"
     ]
    }
   ],
   "source": [
    "iupac_list = [\n",
    "    'ethane',\n",
    "    'methane',\n",
    "    'propane',\n",
    "]\n",
    "hydrocarbon_inchis = py2opsin(iupac_list, output_format=\"InChI\")\n",
    "print(hydrocarbon_inchis)"
   ]
  },
  {
   "attachments": {},
   "cell_type": "markdown",
   "id": "9f4c65a4",
   "metadata": {},
   "source": [
    "The following arguments are supported, which can control the behavior of `OPSIN` or optionally specify a different executable path altogether:\n",
    " - chemical_name (str): IUPAC name of chemical as a Python string, or a list of strings.\n",
    " - output_format (str, optional): One of \"SMILES\", \"CML\", \"InChI\", \"StdInChI\", or \"StdInChIKey\". Defaults to \"SMILES\".\n",
    " - allow_acid (bool, optional): Allow interpretation of acids. Defaults to False.\n",
    " - allow_radicals (bool, optional): Enable radical interpretation. Defaults to False.\n",
    " - allow_bad_stereo (bool, optional): Allow OPSIN to ignore uninterpreatable stereochem. Defaults to False.\n",
    " - wildcard_radicals (bool, optional): Output radicals as wildcards. Defaults to False.\n",
    " - jar_fpath (str, optional): Filepath to OPSIN jar file. Defaults to \"opsin-cli.jar\" which is distributed with py2opsin.\n",
    "\n",
    "If you make a mistake when asking for the desired output, `py2opsin` will offer a helpful suggestion, too:"
   ]
  },
  {
   "cell_type": "code",
   "execution_count": 11,
   "id": "62c68952",
   "metadata": {},
   "outputs": [
    {
     "ename": "RuntimeError",
     "evalue": "Output format StandInChIKey is invalid. Did you mean 'StdInChIKey'?",
     "output_type": "error",
     "traceback": [
      "\u001b[0;31m---------------------------------------------------------------------------\u001b[0m",
      "\u001b[0;31mRuntimeError\u001b[0m                              Traceback (most recent call last)",
      "Cell \u001b[0;32mIn[11], line 1\u001b[0m\n\u001b[0;32m----> 1\u001b[0m py2opsin(\u001b[39m\"\u001b[39;49m\u001b[39mmethanol\u001b[39;49m\u001b[39m\"\u001b[39;49m, \u001b[39m\"\u001b[39;49m\u001b[39mStandInChIKey\u001b[39;49m\u001b[39m\"\u001b[39;49m)\n",
      "File \u001b[0;32m~/py2opsin/py2opsin/py2opsin/py2opsin.py:74\u001b[0m, in \u001b[0;36mpy2opsin\u001b[0;34m(chemical_name, output_format, allow_acid, allow_radicals, allow_bad_stereo, wildcard_radicals, jar_fpath)\u001b[0m\n\u001b[1;32m     57\u001b[0m     possiblity \u001b[39m=\u001b[39m get_close_matches(\n\u001b[1;32m     58\u001b[0m         output_format,\n\u001b[1;32m     59\u001b[0m         [\n\u001b[0;32m   (...)\u001b[0m\n\u001b[1;32m     67\u001b[0m         n\u001b[39m=\u001b[39m\u001b[39m1\u001b[39m,\n\u001b[1;32m     68\u001b[0m     )\n\u001b[1;32m     69\u001b[0m     addendum \u001b[39m=\u001b[39m (\n\u001b[1;32m     70\u001b[0m         \u001b[39m\"\u001b[39m\u001b[39m Did you mean \u001b[39m\u001b[39m'\u001b[39m\u001b[39m{:s}\u001b[39;00m\u001b[39m'\u001b[39m\u001b[39m?\u001b[39m\u001b[39m\"\u001b[39m\u001b[39m.\u001b[39mformat(possiblity[\u001b[39m0\u001b[39m])\n\u001b[1;32m     71\u001b[0m         \u001b[39mif\u001b[39;00m possiblity\n\u001b[1;32m     72\u001b[0m         \u001b[39melse\u001b[39;00m \u001b[39m\"\u001b[39m\u001b[39m Try help(py2opsin).\u001b[39m\u001b[39m\"\u001b[39m\n\u001b[1;32m     73\u001b[0m     )\n\u001b[0;32m---> 74\u001b[0m     \u001b[39mraise\u001b[39;00m \u001b[39mRuntimeError\u001b[39;00m(\n\u001b[1;32m     75\u001b[0m         \u001b[39m\"\u001b[39m\u001b[39mOutput format \u001b[39m\u001b[39m{:s}\u001b[39;00m\u001b[39m is invalid.\u001b[39m\u001b[39m\"\u001b[39m\u001b[39m.\u001b[39mformat(output_format) \u001b[39m+\u001b[39m addendum\n\u001b[1;32m     76\u001b[0m     )\n\u001b[1;32m     78\u001b[0m \u001b[39m# write the input to a text file\u001b[39;00m\n\u001b[1;32m     79\u001b[0m temp_f \u001b[39m=\u001b[39m \u001b[39m\"\u001b[39m\u001b[39mpy2opsin_temp_input.txt\u001b[39m\u001b[39m\"\u001b[39m\n",
      "\u001b[0;31mRuntimeError\u001b[0m: Output format StandInChIKey is invalid. Did you mean 'StdInChIKey'?"
     ]
    }
   ],
   "source": [
    "py2opsin(\"methanol\", \"StandInChIKey\")"
   ]
  }
 ],
 "metadata": {
  "kernelspec": {
   "display_name": "Python 3 (ipykernel)",
   "language": "python",
   "name": "python3"
  },
  "language_info": {
   "codemirror_mode": {
    "name": "ipython",
    "version": 3
   },
   "file_extension": ".py",
   "mimetype": "text/x-python",
   "name": "python",
   "nbconvert_exporter": "python",
   "pygments_lexer": "ipython3",
   "version": "3.11.0"
  }
 },
 "nbformat": 4,
 "nbformat_minor": 5
}
